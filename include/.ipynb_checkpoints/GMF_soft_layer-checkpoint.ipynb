{
 "cells": [
  {
   "cell_type": "code",
   "execution_count": 1,
   "metadata": {},
   "outputs": [],
   "source": [
    "import torch\n",
    "import math\n",
    "import matplotlib.pyplot as plt"
   ]
  },
  {
   "cell_type": "code",
   "execution_count": 223,
   "metadata": {},
   "outputs": [],
   "source": [
    "class ActiveArea(torch.autograd.Function):\n",
    "    @staticmethod\n",
    "    def forward(ctx, L, T, theta, delta, rows, cols):\n",
    "        V = torch.linspace(-math.floor(rows/2.),math.floor(rows/2.)-1,rows)\n",
    "        U = torch.linspace(-math.floor(cols/2.),math.floor(cols/2.)-1,cols)\n",
    "        v, u = torch.meshgrid((V, U))\n",
    "        \n",
    "        cth = math.cos(theta)\n",
    "        sth = math.sin(theta)\n",
    "        \n",
    "        # Compute the step functions\n",
    "        left_step_fun_L = 1/(1+torch.exp(-(v*cth + u*sth + L/2.)*delta))\n",
    "        right_step_fun_L = 1/(1+torch.exp(-(v*cth + u*sth - L/2.)*delta))\n",
    "        \n",
    "        left_step_fun_T = 1/(1+torch.exp(-(u*cth - v*sth + T/2.)*delta))\n",
    "        right_step_fun_T = 1/(1+torch.exp(-(u*cth - v*sth - T/2.)*delta))\n",
    "        \n",
    "        h_v_L = left_step_fun_L - right_step_fun_L\n",
    "        g_u_T = left_step_fun_T - right_step_fun_T\n",
    "        \n",
    "        # Define the box function from the active area is being computed\n",
    "        box_fun_L_T = h_v_L * g_u_T;\n",
    "        \n",
    "        # Integrate along u and v axis\n",
    "        box_fun_L_T_du = 0.5 * (box_fun_L_T[:,1:]+box_fun_L_T[:,:-1]).mv(U[1:]-U[:-1])\n",
    "        box_fun_L_T_dudv = 0.5 * (box_fun_L_T_du[1:]+box_fun_L_T_du[:-1]).dot(V[1:]-V[:-1])\n",
    "    \n",
    "        ctx.save_for_backward(delta, left_step_fun_L, right_step_fun_L, left_step_fun_T, right_step_fun_T, h_v_L, g_u_T, U, V)\n",
    "        \n",
    "        return box_fun_L_T_dudv\n",
    "\n",
    "    \n",
    "    @staticmethod\n",
    "    def backward(ctx, grad_output):\n",
    "        delta, left_step_fun_L, right_step_fun_L, left_step_fun_T, right_step_fun_T, h_v_L, g_u_T, U, V = ctx.saved_tensors\n",
    "        dleft_step_fun_L = left_step_fun_L * (1-left_step_fun_L) * delta/2.\n",
    "        dright_step_fun_L = right_step_fun_L * (1-right_step_fun_L) * delta/2.\n",
    "        dh_v_L = dleft_step_fun_L + dright_step_fun_L\n",
    "        \n",
    "        dleft_step_fun_T = left_step_fun_T * (1-left_step_fun_T) * delta/2.\n",
    "        dright_step_fun_T = right_step_fun_T * (1-right_step_fun_T) * delta/2.\n",
    "        dg_u_T = dleft_step_fun_T + dright_step_fun_T\n",
    "        \n",
    "        dbox_fun_dL_T = dh_v_L * g_u_T;\n",
    "        dbox_fun_L_dT = h_v_L * dg_u_T;\n",
    "        \n",
    "        # Integrate along u and v axis the partial derivative w.r.t. L\n",
    "        dbox_fun_dL_T_du = 0.5 * (dbox_fun_dL_T[:,1:]+dbox_fun_dL_T[:,:-1]).mv(U[1:]-U[:-1])\n",
    "        dbox_fun_dL_T_dudv = 0.5 * (dbox_fun_dL_T_du[1:]+dbox_fun_dL_T_du[:-1]).dot(V[1:]-V[:-1])\n",
    "        \n",
    "        # Integrate along u and v axis the partial derivative w.r.t. T\n",
    "        dbox_fun_L_dT_du = 0.5 * (dbox_fun_L_dT[:,1:]+dbox_fun_L_dT[:,:-1]).mv(U[1:]-U[:-1])\n",
    "        dbox_fun_L_dT_dudv = 0.5 * (dbox_fun_L_dT_du[1:]+dbox_fun_L_dT_du[:-1]).dot(V[1:]-V[:-1])\n",
    "        \n",
    "        return dbox_fun_dL_T_dudv.view(1), dbox_fun_L_dT_dudv.view(1), None, None, None, None"
   ]
  },
  {
   "cell_type": "code",
   "execution_count": 242,
   "metadata": {},
   "outputs": [],
   "source": [
    "class ProfileArea(torch.autograd.Function):\n",
    "    @staticmethod\n",
    "    def forward(ctx, sigma, L, T, theta, delta, rows, cols):\n",
    "        V = torch.linspace(-math.floor(rows/2.),math.floor(rows/2.)-1,rows)\n",
    "        U = torch.linspace(-math.floor(cols/2.),math.floor(cols/2.)-1,cols)\n",
    "        v, u = torch.meshgrid((V, U))\n",
    "        \n",
    "        cth = math.cos(theta)\n",
    "        sth = math.sin(theta)\n",
    "        \n",
    "        # Compute the profile function\n",
    "        f_s = torch.exp(-(u*cth - v*sth)**2/(2*sigma**2))\n",
    "        \n",
    "        # Compute the step functions\n",
    "        left_step_fun_L = 1/(1+torch.exp(-(v*cth + u*sth + L/2.)*delta))\n",
    "        right_step_fun_L = 1/(1+torch.exp(-(v*cth + u*sth - L/2.)*delta))\n",
    "        \n",
    "        left_step_fun_T = 1/(1+torch.exp(-(u*cth - v*sth + T/2.)*delta))\n",
    "        right_step_fun_T = 1/(1+torch.exp(-(u*cth - v*sth - T/2.)*delta))\n",
    "        \n",
    "        h_v_L = left_step_fun_L - right_step_fun_L\n",
    "        g_u_T = left_step_fun_T - right_step_fun_T\n",
    "        \n",
    "        # Define the box function from the active area is being computed\n",
    "        box_fun_s_L_T = f_s * h_v_L * g_u_T;\n",
    "        \n",
    "        # Integrate along u and v axis\n",
    "        box_fun_s_L_T_du = 0.5 * (box_fun_s_L_T[:,1:]+box_fun_s_L_T[:,:-1]).mv(U[1:]-U[:-1])\n",
    "        box_fun_s_L_T_dudv = 0.5 * (box_fun_s_L_T_du[1:]+box_fun_s_L_T_du[:-1]).dot(V[1:]-V[:-1])\n",
    "    \n",
    "        ctx.save_for_backward(sigma, theta, delta, f_s, left_step_fun_L, right_step_fun_L, left_step_fun_T, right_step_fun_T, h_v_L, g_u_T, U, V, u, v)\n",
    "        \n",
    "        return box_fun_s_L_T_dudv\n",
    "\n",
    "    \n",
    "    @staticmethod\n",
    "    def backward(ctx, grad_output):\n",
    "        sigma, theta, delta, f_s, left_step_fun_L, right_step_fun_L, left_step_fun_T, right_step_fun_T, h_v_L, g_u_T, U, V, u, v = ctx.saved_tensors\n",
    "        df_s = (u*math.cos(theta) - v*math.sin(theta))**2/sigma**3 * f_s\n",
    "        \n",
    "        dleft_step_fun_L = left_step_fun_L * (1-left_step_fun_L) * delta/2.\n",
    "        dright_step_fun_L = right_step_fun_L * (1-right_step_fun_L) * delta/2.\n",
    "        dh_v_L = dleft_step_fun_L + dright_step_fun_L\n",
    "        \n",
    "        dleft_step_fun_T = left_step_fun_T * (1-left_step_fun_T) * delta/2.\n",
    "        dright_step_fun_T = right_step_fun_T * (1-right_step_fun_T) * delta/2.\n",
    "        dg_u_T = dleft_step_fun_T + dright_step_fun_T\n",
    "        \n",
    "        dbox_fun_ds_L_T = df_s * h_v_L * g_u_T;\n",
    "        dbox_fun_s_dL_T = f_s * dh_v_L * g_u_T;\n",
    "        dbox_fun_s_L_dT = f_s * h_v_L * dg_u_T;\n",
    "        \n",
    "        # Integrate along u and v axis the partial derivative w.r.t. sigma\n",
    "        dbox_fun_ds_L_T_du = 0.5 * (dbox_fun_ds_L_T[:,1:]+dbox_fun_ds_L_T[:,:-1]).mv(U[1:]-U[:-1])\n",
    "        dbox_fun_ds_L_T_dudv = 0.5 * (dbox_fun_ds_L_T_du[1:]+dbox_fun_ds_L_T_du[:-1]).dot(V[1:]-V[:-1])\n",
    "                \n",
    "        # Integrate along u and v axis the partial derivative w.r.t. L\n",
    "        dbox_fun_s_dL_T_du = 0.5 * (dbox_fun_s_dL_T[:,1:]+dbox_fun_s_dL_T[:,:-1]).mv(U[1:]-U[:-1])\n",
    "        dbox_fun_s_dL_T_dudv = 0.5 * (dbox_fun_s_dL_T_du[1:]+dbox_fun_s_dL_T_du[:-1]).dot(V[1:]-V[:-1])\n",
    "        \n",
    "        # Integrate along u and v axis the partial derivative w.r.t. T\n",
    "        dbox_fun_s_L_dT_du = 0.5 * (dbox_fun_s_L_dT[:,1:]+dbox_fun_s_L_dT[:,:-1]).mv(U[1:]-U[:-1])\n",
    "        dbox_fun_s_L_dT_dudv = 0.5 * (dbox_fun_s_L_dT_du[1:]+dbox_fun_s_L_dT_du[:-1]).dot(V[1:]-V[:-1])\n",
    "        \n",
    "        return dbox_fun_ds_L_T_dudv.view(1), dbox_fun_s_dL_T_dudv.view(1), dbox_fun_s_L_dT_dudv.view(1), None, None, None, None"
   ]
  },
  {
   "cell_type": "code",
   "execution_count": 256,
   "metadata": {},
   "outputs": [],
   "source": [
    "sigma = torch.autograd.Variable(torch.Tensor([2.0]), requires_grad=True)\n",
    "L = torch.autograd.Variable(torch.Tensor([9]), requires_grad=True)\n",
    "T = torch.autograd.Variable(torch.Tensor([13]), requires_grad=True)\n",
    "theta = torch.autograd.Variable(torch.Tensor([10./180.*math.pi]), requires_grad=False)\n",
    "delta = torch.autograd.Variable(torch.Tensor([1.]), requires_grad=False)"
   ]
  },
  {
   "cell_type": "code",
   "execution_count": 261,
   "metadata": {},
   "outputs": [
    {
     "name": "stdout",
     "output_type": "stream",
     "text": [
      "tensor([13.])\n",
      "tensor([9.])\n"
     ]
    }
   ],
   "source": [
    "sigma.grad.data.zero_()\n",
    "L.grad.data.zero_()\n",
    "T.grad.data.zero_()\n",
    "\n",
    "my_active_area = ActiveArea.apply\n",
    "operation = my_active_area(L, T, theta, delta, 512, 512)\n",
    "operation.backward()\n",
    "print(L.grad)\n",
    "print(T.grad)"
   ]
  },
  {
   "cell_type": "code",
   "execution_count": 262,
   "metadata": {},
   "outputs": [
    {
     "name": "stdout",
     "output_type": "stream",
     "text": [
      "tensor([0.1745])\n",
      "tensor([1.])\n",
      "tensor([20.9386])\n",
      "tensor([4.9211])\n",
      "tensor([0.3669])\n"
     ]
    }
   ],
   "source": [
    "sigma.grad.data.zero_()\n",
    "L.grad.data.zero_()\n",
    "T.grad.data.zero_()\n",
    "\n",
    "my_profile_area = ProfileArea.apply\n",
    "operation = my_profile_area(sigma, L, T, theta, delta, 512, 512)\n",
    "operation.backward()\n",
    "print(sigma.grad)\n",
    "print(L.grad)\n",
    "print(T.grad)"
   ]
  }
 ],
 "metadata": {
  "kernelspec": {
   "display_name": "Python 3",
   "language": "python",
   "name": "python3"
  },
  "language_info": {
   "codemirror_mode": {
    "name": "ipython",
    "version": 3
   },
   "file_extension": ".py",
   "mimetype": "text/x-python",
   "name": "python",
   "nbconvert_exporter": "python",
   "pygments_lexer": "ipython3",
   "version": "3.6.8"
  }
 },
 "nbformat": 4,
 "nbformat_minor": 2
}
